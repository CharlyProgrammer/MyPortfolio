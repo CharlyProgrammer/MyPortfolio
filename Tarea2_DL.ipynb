{
 "cells": [
  {
   "cell_type": "markdown",
   "metadata": {},
   "source": [
    "<div style='text-align: center;'>\n",
    "<span style=\"color:#000000; font-family: 'Garamond'; font-weight: 700; font-size: 2em;\"> Analysis and use of different types of classification algorithms for handwritten number recognition </span>\n",
    "</div>\n",
    "\n",
    "<p><b> December 4th, 2022</b></p>  \n",
    "\n",
    "------------------------------------------------------------------------------------------------------------------------------\n"
   ]
  },
  {
   "cell_type": "markdown",
   "metadata": {},
   "source": [
    "<div style='text-align: center;'>\n",
    "<span style=\"color:#000000; font-family: 'Times new roman'; font-weight: 700; font-size: 2em;\"> 1. Loading data & implementation of functions </span>\n",
    "</div>\n"
   ]
  },
  {
   "cell_type": "code",
   "execution_count": 1,
   "metadata": {},
   "outputs": [],
   "source": [
    "import numpy as np\n",
    "import matplotlib.pyplot as plt\n",
    "import random \n",
    "\n",
    "# Cargamos los datos para el entrenamiento y prueba(test), mismos que están en diferentes datasets\n",
    "\n",
    "train = np.genfromtxt('DigitsTraining.csv', delimiter=',')\n",
    "test = np.genfromtxt('DigitsTesting.csv', delimiter=',')\n",
    "\n",
    "# Preprocesamiento de los datos (Pre-processing data)\n",
    "# separamos los datos de las etiquetas para cada dataset\n",
    "\n",
    "X_train = train[:, 1:]\n",
    "y_train = train[:, 0]\n",
    "X_test = test[:, 1:]\n",
    "y_test = test[:, 0]\n",
    "\n",
    "# Algunas funciones\n",
    "# Funcion que devuelve la recta y = ax + b\n",
    "# a y b se consiguen partir de w[0]+w[1]x1+w[2]X2=0\n",
    "\n",
    "    \n",
    "def line(w, data=None):\n",
    "    a = - w[1] / w[2]\n",
    "    b = - w[0] / w[2]\n",
    "    x_line = np.linspace(0.4, 1, 100)\n",
    "    if data is not None:\n",
    "        return a*data + b\n",
    "    else:\n",
    "        return a*x_line + b\n",
    "# Función que calcula la simetria promedio de una imagen\n",
    "\n",
    "def symmetry(X):\n",
    "    X_shapes = (16, 16)\n",
    "    X = X.reshape(X_shapes)\n",
    "   \n",
    "    #creamos 2 nuevas matrices, que son las versiones de la matriz rotadas horizontal y verticalmente\n",
    "    image_FlipV=np.flip(X,axis=1)\n",
    "    image_FlipH=np.flip(X,axis=0)\n",
    "    # en base a la formula de la simetria promedio vertical y horizontal, calculamos Sv y Sh\n",
    "    Sv=((np.abs(X-image_FlipV)).sum())/256\n",
    "    Sh=((np.abs(X-image_FlipH)).sum())/256\n",
    "    # La simetria promedio total es el promedio del valor de la simetria horizontal y vertical\n",
    "    symm=(Sv+Sh)/2\n",
    "\n",
    "\n",
    "    return symm\n",
    "\n",
    "# Función que calcula la intensidad promedio de una imagen, average intensity\n",
    "\n",
    "def intensity(X):\n",
    "    X_shapes = (16, 16)\n",
    "    X = X.reshape(X_shapes)\n",
    "    AVG_intencity=(X.sum())/256\n",
    "    return AVG_intencity\n",
    "\n"
   ]
  },
  {
   "cell_type": "code",
   "execution_count": null,
   "metadata": {},
   "outputs": [],
   "source": [
    "# Informacion de los datos de entrenamiento\n",
    "print(\"Número de imagenes:\"+ str(X_train.shape[0]))\n",
    "print(\"Número de caracteristicas:\"+ str(X_train.shape[1]))\n",
    "\n",
    "# Informacion de los datos de prueba/test\n",
    "print(\"Número de imagenes:\"+ str(X_test.shape[0]))\n",
    "print(\"Número de caracteristicas:\"+ str(X_test.shape[1]))\n"
   ]
  },
  {
   "cell_type": "code",
   "execution_count": 2,
   "metadata": {},
   "outputs": [],
   "source": [
    "# Preparando los datos del set de entrenamiento\n",
    "# Se segmentaran los datos, a solo aquellos que pertenezcan a los 2 digitos que se emplearan\n",
    "# Como mi CI termina en 5 (CI: 6775715 LP) el primer digito será 5, el segundo será \n",
    "# por combeniencia el 1, ya que no se parece al 5.\n",
    "# Esto debido a que Un digito similar al 5 como el caso del 3 o del 6 podria consucir a\n",
    "# problemas a la hora de implementar cualquier modelo de aprendisaje para clasificación  \n",
    "#######################################################################################################################\n",
    "\n",
    "# Extraemos las imagenes de ambos digitos del set de entrenamiento, denominadas Digit1 y Digit2\n",
    "\n",
    "Digit1 = X_train[y_train == 5]\n",
    "y_train_Digit1 = np.ones(len(Digit1))\n",
    "Digit2 = X_train[y_train == 1]\n",
    "y_train_Digit2 = -np.ones(len(Digit2))\n",
    "\n",
    "# Calculamos la simetria promedio para cada imagen y para cada digito\n",
    "\n",
    "symm_Digit2 = [symmetry(im) for im in Digit2]\n",
    "symm_Digit1 = [symmetry(im) for im in Digit1]\n",
    "\n",
    "# calculamos la intensidad de la imagen promedio para cada imagen del set y de igual forma para cada digito\n",
    "avg_intensity_Digit1 = [intensity(im) for im in Digit1]\n",
    "avg_intensity_Digit2 = [intensity(im) for im in Digit2]\n",
    "\n",
    "# concatenamos la intensidad y la simetria en una nueva matriz, una para cada digito\n",
    "# la nueva matyriz tiene la misma cantidad de ejemplos\n",
    "# la nueva matriz solo tendra 2 caracteristicas o columnas, la intensidad(x1) y la simetria (x2)\n",
    "# denominadas new_Digit1 y new_Digit2\n",
    "\n",
    "new_Digit1 = np.c_[avg_intensity_Digit1, symm_Digit1]\n",
    "new_Digit2 = np.c_[avg_intensity_Digit2, symm_Digit2]\n",
    "\n",
    "# apilamos los datos de las matrices de los 2 digitos, de forma vertical una sobre la otra\n",
    "# realizamos esto tanto para los datos de entrenamiento x, como pára las etiquetas de entrenamiento y\n",
    "\n",
    "X_new = np.r_[new_Digit1, new_Digit2]\n",
    "y_new = np.r_[y_train_Digit1, y_train_Digit2]\n",
    "\n",
    "\n",
    "# randomizamos ambas matrices por medio de la generacion de números aleatorios \n",
    "# cada número generado se le pasara como lista de indices para generar los datos finales de \n",
    "# entrenamiento y sus respectivas etiquetas, mismas que tendran ejemplos del digito 1 y 2 \n",
    "# de forma un poco mas distribuida que antes.\n",
    "\n",
    "R_num = np.random.randint(X_new.shape[0], size = (X_new.shape[0],))\n",
    "X_new = X_new[R_num]\n",
    "y_new = y_new[R_num]\n"
   ]
  },
  {
   "cell_type": "code",
   "execution_count": 3,
   "metadata": {},
   "outputs": [
    {
     "data": {
      "text/plain": [
       "<matplotlib.image.AxesImage at 0x2a1cf9c1550>"
      ]
     },
     "execution_count": 3,
     "metadata": {},
     "output_type": "execute_result"
    },
    {
     "data": {
      "image/png": "[encoded data removed]",
      "text/plain": [
       "<Figure size 432x288 with 1 Axes>"
      ]
     },
     "metadata": {
      "needs_background": "light"
     },
     "output_type": "display_data"
    }
   ],
   "source": [
    "# Graficamos 1 ejemplo de cada imagen en el caso de cada digito\n",
    "# En este caso del digito 1\n",
    "# (es necesario indicar vmin y vmax para que matplotlib.pyplot sepa que el minimo es 0 y el maximo 1)\n",
    "# (solo imagenes en escala de grises)\n",
    "\n",
    "plt.imshow(Digit1[5].reshape(16,16),vmin=0,vmax=1,cmap='gray')"
   ]
  },
  {
   "cell_type": "code",
   "execution_count": 4,
   "metadata": {},
   "outputs": [
    {
     "data": {
      "text/plain": [
       "<matplotlib.image.AxesImage at 0x2a1ce6e3fd0>"
      ]
     },
     "execution_count": 4,
     "metadata": {},
     "output_type": "execute_result"
    },
    {
     "data": {
      "image/png": "[encoded data removed]",
      "text/plain": [
       "<Figure size 432x288 with 1 Axes>"
      ]
     },
     "metadata": {
      "needs_background": "light"
     },
     "output_type": "display_data"
    }
   ],
   "source": [
    "# Graficamos 1 ejemplo de cada imagen en el caso de cada digito\n",
    "# En este caso del digito 2 del set de entrenamiento\n",
    "# (es necesario indicar vmin y vmax para que matplotlib.pyplot sepa que el minimo es 0 y el maximo 1)\n",
    "# (solo imagenes en escala de grises)\n",
    "\n",
    "plt.imshow(Digit2[1].reshape(16,16),vmin=0,vmax=1,cmap='gray')\n"
   ]
  },
  {
   "cell_type": "code",
   "execution_count": 24,
   "metadata": {},
   "outputs": [
    {
     "name": "stdout",
     "output_type": "stream",
     "text": [
      "Número de ejemplos:1561\n",
      "Número de caracteristicas:2\n",
      "Número de ejemplos con 5: 556\n",
      "Número de ejemplos con 1: 1005\n"
     ]
    }
   ],
   "source": [
    "# Informacion de los nuevos datos de entrenamiento generados\n",
    "# los nuevos datos solo contienen ejemplos de los digitos escogidos\n",
    "# los nuevos datos están en funcion de las 2 nuevas y unicas caracteristicas de entrada x1 y x2\n",
    "\n",
    "print(\"Número de ejemplos:\"+ str(X_new.shape[0]))\n",
    "print(\"Número de caracteristicas:\"+ str(X_new.shape[1]))\n",
    "\n",
    "# Información de las nuevas etiquetas del set de entrenamiento\n",
    "\n",
    "print(\"Número de ejemplos con 5: \"+str(len(y_train_Digit1)))\n",
    "print(\"Número de ejemplos con 1: \"+str(len(y_train_Digit2)))\n"
   ]
  },
  {
   "cell_type": "code",
   "execution_count": 23,
   "metadata": {},
   "outputs": [
    {
     "name": "stdout",
     "output_type": "stream",
     "text": [
      "forma del nuevo conjunto de entrenamiento en X: (1561, 2)\n",
      "forma del nuevo conjunto de entrenamiento en Y: (1561,)\n"
     ]
    }
   ],
   "source": [
    "print(\"forma del nuevo conjunto de entrenamiento en X:\",X_new.shape)\n",
    "print(\"forma del nuevo conjunto de entrenamiento en Y:\",y_new.shape)\n"
   ]
  },
  {
   "cell_type": "code",
   "execution_count": 5,
   "metadata": {},
   "outputs": [],
   "source": [
    "# Preparando datos del set de prueba/ test, perteneciente a únicamente 2 digitos\n",
    "# Como mi CI termina en 5, el primer digito será 5, el segundo será un 1\n",
    "# Extraer las imagenes de ambos digitos del set de entrenamiento, denominadas X_test_Digit1 y X_test_Digit2\n",
    "\n",
    "X_test_Digit1 = X_test[y_test == 5]\n",
    "y_test_Digit1 = np.ones(len(X_test_Digit1))\n",
    "X_test_Digit2 = X_test[y_test == 1]\n",
    "y_test_Digit2 = -np.ones(len(X_test_Digit2))\n",
    "\n",
    "# apilamos los datos de las matrices de los 2 digitos, de forma vertical una sobre la otra\n",
    "# realizamos esto tanto para los datos de test en x, como pára las etiquetas de test y\n",
    "\n",
    "X_test_new = np.r_[X_test_Digit1, X_test_Digit2]\n",
    "y_test_new = np.r_[y_test_Digit1, y_test_Digit2]\n",
    "\n",
    "\n",
    "# randomizamos ambas matrices por medio de la generacion de números aleatorios \n",
    "# cada número generado se le pasara como lista de indices para generar los datos finales de \n",
    "# prueba/ test y sus respectivas etiquetas, mismas que tendran ejemplos del digito 1 y 2 \n",
    "# de forma un poco mas distribuida que antes.\n",
    "\n",
    "R = np.random.randint(X_test_new.shape[0], size = (X_test_new.shape[0],))\n",
    "\n",
    "X_test_new = X_test_new[R]\n",
    "y_test_new = y_test_new[R]\n",
    "\n",
    "# calculamos la intensidad de la imagen promedio para cada imagen del set y de igual forma para cada digito  \n",
    "avg_int_test = [intensity(im) for im in X_test_new]\n",
    "\n",
    "# Calculamos la simetria promedio para cada imagen y para cada digito\n",
    "\n",
    "test_symm = [symmetry(im) for im in X_test_new]\n",
    "\n",
    "# generamos el nuevo conjunto de prueba en X\n",
    "\n",
    "X_test_final = np.c_[avg_int_test, test_symm]\n",
    "\n"
   ]
  },
  {
   "cell_type": "code",
   "execution_count": 6,
   "metadata": {},
   "outputs": [
    {
     "data": {
      "text/plain": [
       "<matplotlib.image.AxesImage at 0x2a1c7d9c1c0>"
      ]
     },
     "execution_count": 6,
     "metadata": {},
     "output_type": "execute_result"
    },
    {
     "data": {
      "image/png": "[encoded data removed]",
      "text/plain": [
       "<Figure size 432x288 with 1 Axes>"
      ]
     },
     "metadata": {
      "needs_background": "light"
     },
     "output_type": "display_data"
    }
   ],
   "source": [
    "# Graficamos 1 ejemplo de cada imagen en el caso de cada digito\n",
    "# (es necesario indicar vmin y vmax para que pyplot sepa que el minimo es 0 y el maximo 1)\n",
    "# (solo imagenes escala de grises)\n",
    "plt.imshow(X_test_Digit1[5].reshape(16,16),vmin=0,vmax=1,cmap='gray')"
   ]
  },
  {
   "cell_type": "code",
   "execution_count": 7,
   "metadata": {},
   "outputs": [
    {
     "data": {
      "text/plain": [
       "<matplotlib.image.AxesImage at 0x2a1ce527ca0>"
      ]
     },
     "execution_count": 7,
     "metadata": {},
     "output_type": "execute_result"
    },
    {
     "data": {
      "image/png": "[encoded data removed]",
      "text/plain": [
       "<Figure size 432x288 with 1 Axes>"
      ]
     },
     "metadata": {
      "needs_background": "light"
     },
     "output_type": "display_data"
    }
   ],
   "source": [
    "# Graficamos 1 ejemplo de cada imagen en el caso de cada digito\n",
    "# (es necesario indicar vmin y vmax para que pyplot sepa que el minimo es 0 y el maximo 1)\n",
    "# (solo imagenes escala de grises)\n",
    "plt.imshow(X_test_Digit2[1].reshape(16,16),vmin=0,vmax=1,cmap='gray')"
   ]
  },
  {
   "cell_type": "code",
   "execution_count": 25,
   "metadata": {},
   "outputs": [
    {
     "name": "stdout",
     "output_type": "stream",
     "text": [
      "Número de ejemplos:424\n",
      "Número de caracteristicas:2\n",
      "Número de ejemplos con 5: 160\n",
      "Número de ejemplos con 1: 264\n"
     ]
    }
   ],
   "source": [
    "# Informacion de los nuevos datos de prueba/ test\n",
    "# los nuevos datos solo contienen ejemplos de los digitos escogidos\n",
    "# los nuevos datos están en funcion de las 2 nuevas y unicas caracteristicas de entrada x1 y x2\n",
    "\n",
    "print(\"Número de ejemplos:\"+ str(X_test_final.shape[0]))\n",
    "print(\"Número de caracteristicas:\"+ str(X_test_final.shape[1]))\n",
    "\n",
    "# Información de las nuevas etiquetas del set de entrenamiento\n",
    "\n",
    "print(\"Número de ejemplos con 5: \"+str(len(y_test_Digit1)))\n",
    "print(\"Número de ejemplos con 1: \"+str(len(y_test_Digit2)))"
   ]
  },
  {
   "cell_type": "code",
   "execution_count": 26,
   "metadata": {},
   "outputs": [
    {
     "name": "stdout",
     "output_type": "stream",
     "text": [
      "forma del nuevo conjunto de prueba en X: (424, 2)\n",
      "forma del nuevo conjunto de prueba en Y: (424,)\n"
     ]
    }
   ],
   "source": [
    "print(\"forma del nuevo conjunto de prueba en X:\",X_test_final.shape)\n",
    "print(\"forma del nuevo conjunto de prueba en Y:\",y_test_new.shape)\n"
   ]
  },
  {
   "cell_type": "code",
   "execution_count": 8,
   "metadata": {},
   "outputs": [],
   "source": [
    "##########################################################\n",
    "# Algoritmo del perceptron para N iteraciones\n",
    "###########################################################\n",
    "\n",
    "# función que ejecuta el algoritmo del perceptron\n",
    "\n",
    "\n",
    "\n",
    "def perceptron(input_data,y,input_data_test,y_test,max_iter):\n",
    "    # creamos una nueva matriz de datos de entrada, denominada como data\n",
    "    # donde incluimos un vector de 1's en el set de datos, tanto en el de train como en el de test\n",
    "    data = np.c_[np.ones((input_data.shape[0],1)), input_data]  #https://docs.scipy.org/doc/numpy/reference/generated/numpy.c_.html\n",
    "    data_test = np.c_[np.ones((input_data_test.shape[0],1)), input_data_test]\n",
    "    # generamos el vector de pesos inicial w de forma aleatoria\n",
    "    w = np.random.random(data.shape[1]).reshape(-1,1)   \n",
    "    # current o la predicción (h(x) o g) en base a los datos de entrenamiento y al vector w inicial\n",
    "    current = np.sign(data @ w)\n",
    "    # f en este caso, sera y o las etiquetas para el set de entrenamiento\n",
    "    f = y.reshape(-1,1)\n",
    "    # de igual forma y_test sera para el set de test\n",
    "    y_test =y_test.reshape(-1,1)\n",
    "    # comparamos f real vs la prediccion de f=sign(WXn)\n",
    "    difference = (f != current)\n",
    "    # contador de ejemplos no clasificados correctamente\n",
    "    t = 0\n",
    "    Ein = []\n",
    "    Eout = []\n",
    "      \n",
    "   # iteracion de entrenamiento seteado para un número maximo de iteraciones  \n",
    "    for iteration in range(max_iter):\n",
    "        for i in range(len(f)): \n",
    "            # para cada ejemplo ver si es verdad que la predicción difiere de f\n",
    "            if difference[i]:\n",
    "                # si es el caso actualizamos los pesos\n",
    "                w[0]+=f[i]*data[i][0]\n",
    "                w[1]+=f[i]*data[i][1]\n",
    "                w[2]+=f[i]*data[i][2]\n",
    "                \n",
    "                # contamos 1 a la cantidad de ejemplos que no se logro clasificar de forma correcta\n",
    "                t+=1\n",
    "        # al terminar de recorrer todos los ejemplos, recalculamos la prediccion y la diferencia        \n",
    "        current = np.sign(data @ w)\n",
    "        difference = (f != current)\n",
    "        # almacenamos el error de entrenamiento, el total por iteracion\n",
    "        # el error es la cantidad de ejemplos incorrectos entre la cantidad de ejemplos totales\n",
    "        Ein.append((t/len(f))*100)\n",
    "        # reseteamos el contador\n",
    "        t=0\n",
    "    # al terminar las iteraciones    \n",
    "    # ponemos el error en valores porcentuales    \n",
    "    \n",
    "    # Continuando el algoritmo para el caso del set de prueba/test\n",
    "    # Se partira del vector de pesos w que resulto del entrenamiento en la ultima iteracion\n",
    "    # el algoritmo es el mismo, solo cambiando de set de datos\n",
    "    \n",
    "        prediction_test = np.sign(data_test @ w)    \n",
    "        difference_test=(y_test != prediction_test)\n",
    "          \n",
    "        for i in range(len(y_test)):\n",
    "            if difference_test[i]:\n",
    "                t+=1\n",
    "       \n",
    "        Eout.append((t/len(y_test))*100)\n",
    "        t=0\n",
    "    # De igual forma se lo muestra como valores porcentuales\n",
    "     \n",
    "    \n",
    "    return Ein,Eout,w\n"
   ]
  },
  {
   "cell_type": "code",
   "execution_count": 33,
   "metadata": {},
   "outputs": [
    {
     "data": {
      "image/png": "[encoded data removed]",
      "text/plain": [
       "<Figure size 432x288 with 1 Axes>"
      ]
     },
     "metadata": {
      "needs_background": "light"
     },
     "output_type": "display_data"
    },
    {
     "data": {
      "image/png": "[encoded data removed]",
      "text/plain": [
       "<Figure size 432x288 with 1 Axes>"
      ]
     },
     "metadata": {
      "needs_background": "light"
     },
     "output_type": "display_data"
    }
   ],
   "source": [
    "Ein,Eout, weight = perceptron(X_new, y_new,X_test_final,y_test_new, 200)\n",
    "#Obteniendo la informacion necesaria del perceptron, graficamos los puntos y la recta del modelo\n",
    "# x_line sera el eje x en el grafico\n",
    "x_line = np.linspace(0.4, 1, 100)\n",
    "# dibujamos el espacio de puntos donde el primer digito es azul y rojo el segundo\n",
    "# el grafico esta en funcion de la intensidad media vs la simetria de cada imagen\n",
    "plt.scatter(avg_intensity_Digit2, symm_Digit2, marker = 'x', color = 'red')\n",
    "plt.scatter(avg_intensity_Digit1, symm_Digit1, marker='o', color = 'blue')\n",
    "# Dibujamos la linea en funcion al vector de pesos weight conseguido\n",
    "plt.plot(x_line, line(weight))\n",
    "plt.title('PLA')\n",
    "plt.xlabel('x1: Average Intensity')\n",
    "plt.ylabel('x2: Symmetry')\n",
    "plt.show()\n",
    "\n",
    "\n",
    "# Graficamos los errores Ein y Eout\n",
    "  \n",
    "plt.title('Ein/Eout PLA')\n",
    "plt.xlabel('Iterations')\n",
    "plt.ylabel('Error %')\n",
    "plt.plot(Ein, label='Ein')\n",
    "plt.plot(Eout, label = 'Eout')\n",
    "plt.legend()\n",
    "plt.show()\n",
    "\n"
   ]
  },
  {
   "cell_type": "code",
   "execution_count": 10,
   "metadata": {},
   "outputs": [
    {
     "data": {
      "text/plain": [
       "0.5765534913516976"
      ]
     },
     "execution_count": 10,
     "metadata": {},
     "output_type": "execute_result"
    }
   ],
   "source": [
    "# Error minimo con el vector de pesos w conseguido y con los datos de test o prueba\n",
    "min(Ein)"
   ]
  },
  {
   "cell_type": "code",
   "execution_count": 11,
   "metadata": {},
   "outputs": [
    {
     "data": {
      "text/plain": [
       "2.8301886792452833"
      ]
     },
     "execution_count": 11,
     "metadata": {},
     "output_type": "execute_result"
    }
   ],
   "source": [
    "# Error minimo con el vector de pesos w conseguido y con los datos de test o prueba\n",
    "min(Eout)"
   ]
  },
  {
   "cell_type": "code",
   "execution_count": 12,
   "metadata": {},
   "outputs": [
    {
     "data": {
      "text/plain": [
       "array([[ 264.69118408],\n",
       "       [-688.14799261],\n",
       "       [1916.24433531]])"
      ]
     },
     "execution_count": 12,
     "metadata": {},
     "output_type": "execute_result"
    }
   ],
   "source": [
    "weight"
   ]
  },
  {
   "cell_type": "code",
   "execution_count": 13,
   "metadata": {},
   "outputs": [],
   "source": [
    "def pocket(input_data,y,input_data_test,y_test,max_iter,w=None):    \n",
    "    data = np.c_[np.ones((input_data.shape[0],1)), input_data]  #https://docs.scipy.org/doc/numpy/reference/generated/numpy.c_.html\n",
    "    data_test = np.c_[np.ones((input_data_test.shape[0],1)), input_data_test]\n",
    "    if w is None:        \n",
    "        w = np.random.random(data.shape[1]).reshape(-1,1)    \n",
    "    current = np.sign(data @ w)\n",
    "    f = y.reshape(-1,1)\n",
    "    y_test =y_test.reshape(-1,1)\n",
    "    difference = (f != current)\n",
    "    t = 0\n",
    "    Ein = [2]\n",
    "    Eout = [2]\n",
    "    \n",
    "    e=0\n",
    "    for iteration in range(max_iter):\n",
    "        for i in range(len(f)):\n",
    "            if difference[i]:\n",
    "                w[0]+=f[i]*data[i][0]\n",
    "                w[1]+=f[i]*data[i][1]\n",
    "                w[2]+=f[i]*data[i][2]\n",
    "                t+=1\n",
    "        current = np.sign(data @ w)\n",
    "        difference = (f != current)\n",
    "        # si el error en la presente iteracion es menor al de la anterior\n",
    "        # guardamos el vector de pesos y su error\n",
    "        if t/len(f) < Ein[-1]:\n",
    "            e=t/len(f)\n",
    "            wf=w.copy()\n",
    "        # en caso contrario no actualizamos el error, ni guardamos nada   \n",
    "          \n",
    "        Ein.append(e)\n",
    "        t=0\n",
    "    \n",
    "    # al terminar las iteraciones, realizamos el procedimiento para test\n",
    "    # pero partiendo del mejor resultado wf, solo la primera vez\n",
    "    \n",
    "        prediction_test = np.sign(data_test @ w)    \n",
    "        difference_test=(y_test != prediction_test )\n",
    "          \n",
    "        for i in range(len(y_test)):\n",
    "            if difference_test[i]:\n",
    "                t+=1\n",
    "        if t/len(y_test) < Eout[-1]:\n",
    "            e=t/len(y_test)\n",
    "            wf=w.copy()     \n",
    "            \n",
    "        Eout.append(e)\n",
    "        t=0    \n",
    "    Ein=[v*100 for v in Ein]\n",
    "    Eout=[v*100 for v in Eout]\n",
    "    return Ein,Eout,wf\n",
    "\n"
   ]
  },
  {
   "cell_type": "code",
   "execution_count": 34,
   "metadata": {},
   "outputs": [
    {
     "data": {
      "image/png": "[encoded data removed]",
      "text/plain": [
       "<Figure size 432x288 with 1 Axes>"
      ]
     },
     "metadata": {
      "needs_background": "light"
     },
     "output_type": "display_data"
    },
    {
     "data": {
      "image/png": "[encoded data removed]",
      "text/plain": [
       "<Figure size 432x288 with 1 Axes>"
      ]
     },
     "metadata": {
      "needs_background": "light"
     },
     "output_type": "display_data"
    }
   ],
   "source": [
    "#Using pocket algorithm\n",
    "Ein, Eout,w = pocket(X_new, y_new,X_test_final,y_test_new, 200)\n",
    "\n",
    "#Ploting\n",
    "plt.scatter(avg_intensity_Digit2, symm_Digit2, marker = 'x', color = 'red')\n",
    "plt.scatter(avg_intensity_Digit1, symm_Digit1, marker='o', color = 'blue')\n",
    "plt.plot(x_line, line(w))\n",
    "plt.xlabel('x1: Average Intensity')\n",
    "plt.ylabel('x2: Symmetry')\n",
    "plt.show()\n",
    "\n",
    "\n",
    "#Plot Ein and Eout \n",
    "plt.title('Ein/Eout Pocket')\n",
    "plt.xlabel('Iterations')\n",
    "plt.ylabel('Error %')\n",
    "plt.plot(Ein, label='Ein')\n",
    "plt.plot(Eout, label = 'Eout')\n",
    "plt.legend()\n",
    "plt.show()\n",
    "\n"
   ]
  },
  {
   "cell_type": "code",
   "execution_count": 35,
   "metadata": {},
   "outputs": [
    {
     "data": {
      "text/plain": [
       "0.5765534913516976"
      ]
     },
     "execution_count": 35,
     "metadata": {},
     "output_type": "execute_result"
    }
   ],
   "source": [
    "# Error minimo con el vector de pesos w conseguido y con los datos de entrenamiento\n",
    "min(Ein)"
   ]
  },
  {
   "cell_type": "code",
   "execution_count": 36,
   "metadata": {},
   "outputs": [
    {
     "data": {
      "text/plain": [
       "0.5765534913516976"
      ]
     },
     "execution_count": 36,
     "metadata": {},
     "output_type": "execute_result"
    }
   ],
   "source": [
    "# Error minimo con el vector de pesos w conseguido y con los datos de test o prueba\n",
    "min(Eout)"
   ]
  },
  {
   "cell_type": "code",
   "execution_count": 19,
   "metadata": {},
   "outputs": [],
   "source": [
    "# Linear Regression\n",
    "# importamos el modelo de regresion lineal de sklearn\n",
    "from sklearn.linear_model import LinearRegression\n",
    "from sklearn.metrics import r2_score\n",
    "from sklearn.metrics import mean_squared_error\n",
    "\n",
    "def lin(input_data,y,input_data_test,y_test,):\n",
    "    # realizamos el mismo procedimiento anterior de añadir un vector de 1's a los datos\n",
    "    data = np.c_[np.ones((input_data.shape[0],1)), input_data]  #https://docs.scipy.org/doc/numpy/reference/generated/numpy.c_.html\n",
    "    data_test = np.c_[np.ones((input_data_test.shape[0],1)), input_data_test]\n",
    "    \n",
    "    \n",
    "    # Adaptamos los vectores que contienen a las etiquetas de train y test para ser de tipo columna\n",
    "    f = y.reshape(-1,1)\n",
    "    y_test =y_test.reshape(-1,1)\n",
    "    # creamos un modelo lineal\n",
    "    modeloLinear = LinearRegression()\n",
    "    # aplicamos el set de datos de train al modelo\n",
    "    modeloLinear.fit(X = input_data, y = y)\n",
    "    # creamos w con los pesos obtenidos en el modelo lineal entrenado\n",
    "    w=np.array([modeloLinear.intercept_,modeloLinear.coef_[0],modeloLinear.coef_[1]]).reshape(-1,1)\n",
    "    # obtenemos h o la prediccion del modelo para el conjunto train y test, con el w conseguido\n",
    "    # para lo cual aplicamos sign(wT.x)\n",
    "    prediction_train=np.sign(data @ w)\n",
    "    prediction_test=np.sign(data_test @ w)\n",
    "    # calculamos el error contando las clases no acertadas con relacion a las etiquetas de cada conjunto\n",
    "    NMissClass=0\n",
    "    difference = (f != prediction_train)\n",
    "    for i in range(len(f)):\n",
    "        if difference[i]:\n",
    "            NMissClass+=1\n",
    "    # Calculamos el error porcentual de Ein\n",
    "    Ein=(NMissClass/len(f))*100\n",
    "    # Hacemos lo mismo para test y Eout\n",
    "    NMissClass=0\n",
    "    difference_test = (y_test != prediction_test)\n",
    "    for i in range(len(y_test)):\n",
    "        if difference_test[i]:\n",
    "            NMissClass+=1\n",
    "    Eout=(NMissClass/len(y_test))*100\n",
    "    \n",
    "    NMissClass=0\n",
    "    \n",
    "    \n",
    "    return Ein,Eout,w\n"
   ]
  },
  {
   "cell_type": "code",
   "execution_count": 37,
   "metadata": {},
   "outputs": [
    {
     "name": "stdout",
     "output_type": "stream",
     "text": [
      "Ein LIN: 0.4484304932735426\n",
      "Eout LIN: 2.5943396226415096\n"
     ]
    },
    {
     "data": {
      "image/png": "[encoded data removed]",
      "text/plain": [
       "<Figure size 432x288 with 1 Axes>"
      ]
     },
     "metadata": {
      "needs_background": "light"
     },
     "output_type": "display_data"
    },
    {
     "name": "stdout",
     "output_type": "stream",
     "text": [
      "Ein Pocket: 0.4484304932735426\n",
      "Eout Pocket: 0.5765534913516976\n"
     ]
    },
    {
     "data": {
      "image/png": "[encoded data removed]",
      "text/plain": [
       "<Figure size 432x288 with 1 Axes>"
      ]
     },
     "metadata": {
      "needs_background": "light"
     },
     "output_type": "display_data"
    },
    {
     "data": {
      "image/png": "[encoded data removed]",
      "text/plain": [
       "<Figure size 432x288 with 1 Axes>"
      ]
     },
     "metadata": {
      "needs_background": "light"
     },
     "output_type": "display_data"
    }
   ],
   "source": [
    "## Regresion lineal VS pocket algorithm\n",
    "\n",
    "# REGRESION LINEAL\n",
    "\n",
    "Ein, Eout,w = lin(X_new, y_new,X_test_final,y_test_new)\n",
    "print('Ein LIN:',Ein)\n",
    "print('Eout LIN:',Eout)\n",
    "\n",
    "plt.scatter(avg_intensity_Digit2, symm_Digit2, marker = 'x', color = 'red')\n",
    "plt.scatter(avg_intensity_Digit1, symm_Digit1, marker='o', color = 'blue')\n",
    "plt.plot(x_line, line(w))\n",
    "plt.xlabel('x1: Average Intensity')\n",
    "plt.ylabel('x2: Symmetry')\n",
    "plt.show()\n",
    "\n",
    "## Algoritmo POCKET \n",
    "\n",
    "Ein, Eout,w = pocket(X_new, y_new,X_test_final,y_test_new, 200,w)\n",
    "\n",
    "print('Ein Pocket:',min(Ein))\n",
    "print('Eout Pocket:',min(Eout))\n",
    "\n",
    "\n",
    "plt.scatter(avg_intensity_Digit2, symm_Digit2, marker = 'x', color = 'red')\n",
    "plt.scatter(avg_intensity_Digit1, symm_Digit1, marker='o', color = 'blue')\n",
    "plt.plot(x_line, line(w))\n",
    "plt.show()\n",
    "\n",
    "#Plot Ein and Eout \n",
    "plt.title('Ein/Eout Pocket with Linear Regresion Initial Weights')\n",
    "plt.xlabel('Iterations')\n",
    "plt.ylabel('Error %')\n",
    "plt.plot(Ein, label='Ein')\n",
    "plt.plot(Eout, label = 'Eout')\n",
    "plt.legend()\n",
    "plt.show()\n"
   ]
  },
  {
   "cell_type": "code",
   "execution_count": null,
   "metadata": {},
   "outputs": [],
   "source": []
  }
 ],
 "metadata": {
  "kernelspec": {
   "display_name": "Python 3 (ipykernel)",
   "language": "python",
   "name": "python3"
  },
  "language_info": {
   "codemirror_mode": {
    "name": "ipython",
    "version": 3
   },
   "file_extension": ".py",
   "mimetype": "text/x-python",
   "name": "python",
   "nbconvert_exporter": "python",
   "pygments_lexer": "ipython3",
   "version": "3.9.18"
  }
 },
 "nbformat": 4,
 "nbformat_minor": 2
}
